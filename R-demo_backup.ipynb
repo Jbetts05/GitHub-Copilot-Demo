{
 "cells": [
  {
   "cell_type": "code",
   "execution_count": null,
   "metadata": {
    "vscode": {
     "languageId": "r"
    }
   },
   "outputs": [],
   "source": [
    "library(tidyverse)\n",
    "library(janitor)\n"
   ]
  },
  {
   "cell_type": "code",
   "execution_count": null,
   "metadata": {
    "vscode": {
     "languageId": "r"
    }
   },
   "outputs": [],
   "source": [
    "# Read in the pumpkins dataset from the csv file\n",
    "pumpkins <- read_csv(\"pumpkins.csv\")"
   ]
  },
  {
   "cell_type": "code",
   "execution_count": null,
   "metadata": {
    "vscode": {
     "languageId": "r"
    }
   },
   "outputs": [],
   "source": [
    "#clean up column names\n",
    "pumpkins <- pumpkins %>% clean_names()\n"
   ]
  },
  {
   "cell_type": "code",
   "execution_count": null,
   "metadata": {
    "vscode": {
     "languageId": "r"
    }
   },
   "outputs": [],
   "source": [
    "# Use explain to show what the clean_names function does"
   ]
  },
  {
   "cell_type": "code",
   "execution_count": null,
   "metadata": {
    "vscode": {
     "languageId": "r"
    }
   },
   "outputs": [],
   "source": [
    "#display an overview of the data \n",
    "glimpse(pumpkins)"
   ]
  },
  {
   "cell_type": "code",
   "execution_count": null,
   "metadata": {
    "vscode": {
     "languageId": "r"
    }
   },
   "outputs": [],
   "source": [
    "# display 5 random rows\n",
    "sample_n(pumpkins, 5)\n"
   ]
  },
  {
   "cell_type": "code",
   "execution_count": null,
   "metadata": {
    "vscode": {
     "languageId": "r"
    }
   },
   "outputs": [],
   "source": [
    "# show average high price by package and color\n",
    "pumpkins %>% \n",
    "  group_by(package, color) %>% \n",
    "  summarize(avg_high_price = mean(high_price, na.rm = TRUE)) %>% \n",
    "  arrange(desc(avg_high_price))"
   ]
  },
  {
   "cell_type": "code",
   "execution_count": null,
   "metadata": {
    "vscode": {
     "languageId": "r"
    }
   },
   "outputs": [],
   "source": [
    "# analysis of variance of high price by origin, color and item_size using aov and assigning to a variable called model\n",
    "model <- aov(high_price ~ origin + color + item_size, data = pumpkins)\n",
    "\n"
   ]
  },
  {
   "cell_type": "code",
   "execution_count": null,
   "metadata": {
    "vscode": {
     "languageId": "r"
    }
   },
   "outputs": [],
   "source": [
    "# display AOV results\n",
    "summary(model)"
   ]
  },
  {
   "cell_type": "code",
   "execution_count": null,
   "metadata": {
    "vscode": {
     "languageId": "r"
    }
   },
   "outputs": [],
   "source": [
    "# predict ppb for a pumpkin with the following characteristics origin OHIO, color ORANGE, item_size med \n",
    "predict(model, data.frame(origin = \"OHIO\", color = \"ORANGE\", item_size = \"med\"))\n"
   ]
  },
  {
   "cell_type": "code",
   "execution_count": null,
   "metadata": {
    "vscode": {
     "languageId": "r"
    }
   },
   "outputs": [],
   "source": [
    "# filter rows where \"bushel\" is found in the package name\n",
    "pumpkins %>% \n",
    "  filter(str_detect(package, \"bushel\")) %>% \n",
    "  arrange(desc(high_price)) %>% \n",
    "  select(package, low_price, high_price)\n",
    "\n"
   ]
  },
  {
   "cell_type": "code",
   "execution_count": null,
   "metadata": {
    "vscode": {
     "languageId": "r"
    }
   },
   "outputs": [],
   "source": [
    "# calculate price per bushel as probability using the package name\n",
    "pumpkins %>% \n",
    "  mutate(ppb = if_else(str_detect(package, \"bushel\"), high_price, high_price / 24)) %>% \n",
    "  arrange(desc(ppb)) %>% \n",
    "  select(package, low_price, high_price, ppb)\n",
    "    \n"
   ]
  },
  {
   "cell_type": "code",
   "execution_count": null,
   "metadata": {
    "vscode": {
     "languageId": "r"
    }
   },
   "outputs": [],
   "source": [
    "# table of average ppb by color and item_size\n",
    "pumpkins %>% \n",
    "  mutate(ppb = if_else(str_detect(package, \"bushel\"), high_price, high_price / 24)) %>% \n",
    "  group_by(color, item_size) %>% \n",
    "  summarize(avg_ppb = mean(ppb, na.rm = TRUE)) %>% \n",
    "  arrange(desc(avg_ppb))"
   ]
  },
  {
   "cell_type": "code",
   "execution_count": null,
   "metadata": {
    "vscode": {
     "languageId": "r"
    }
   },
   "outputs": [],
   "source": [
    "# create a table of counts by item_size and color \n",
    "pumpkins %>% \n",
    "  group_by(item_size, color) %>% \n",
    "  summarize(count = n()) %>% \n",
    "  arrange(desc(count))"
   ]
  },
  {
   "cell_type": "code",
   "execution_count": null,
   "metadata": {
    "vscode": {
     "languageId": "r"
    }
   },
   "outputs": [],
   "source": [
    "# now please create a pivot table of counts by item_size and color \n",
    "pumpkins %>% \n",
    "  group_by(item_size, color) %>% \n",
    "  summarize(count = n()) %>% \n",
    "  pivot_wider(names_from = item_size, values_from = count, values_fill = 0)"
   ]
  },
  {
   "cell_type": "code",
   "execution_count": null,
   "metadata": {
    "vscode": {
     "languageId": "r"
    }
   },
   "outputs": [],
   "source": [
    "TODO\n",
    "- keep as backup \n",
    "- create new file with commnets and markdown titles\n",
    "- push into the repo\n",
    "- create 2 slides for the demo\n",
    "- 1 slide about jupyter notebooks (links and guides)\n",
    "- 1 slide about security with Copilot\n",
    "- General overview of Copilot and how it works\n"
   ]
  }
 ],
 "metadata": {
  "kernelspec": {
   "display_name": "R",
   "language": "R",
   "name": "ir"
  },
  "language_info": {
   "codemirror_mode": "r",
   "file_extension": ".r",
   "mimetype": "text/x-r-source",
   "name": "R",
   "pygments_lexer": "r",
   "version": "4.3.0"
  },
  "orig_nbformat": 4
 },
 "nbformat": 4,
 "nbformat_minor": 2
}
