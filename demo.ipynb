{
 "cells": [
  {
   "cell_type": "markdown",
   "metadata": {},
   "source": [
    "# GitHub Copilot"
   ]
  },
  {
   "cell_type": "markdown",
   "metadata": {},
   "source": [
    "Install both the <b>'GitHub Copilot Extension'</b> and the <b>'Github Copilot Chat Extension'</b>\n",
    "\n",
    "There are three ways to use Copilot within VScode:\n",
    "<br>\n",
    "\n",
    "- ' # ' using comments, we instruct Copilot to generate code and docs\n",
    "- ' Ctrl + i ' will open the Copilot Chat function within the cell, here you can enter your instruction to Copilot  \n",
    "- You can also use Copilot Chat directly from your extension list, this can also be toggled with ' Ctrl + Alt + i '"
   ]
  },
  {
   "cell_type": "markdown",
   "metadata": {},
   "source": [
    "## GitHub Copilot Capabilities"
   ]
  },
  {
   "cell_type": "markdown",
   "metadata": {},
   "source": [
    "<b>\n",
    "- Generate Code <br>\n",
    "- Explain Code <br>\n",
    "- Fix Code <br>\n",
    "- Generate Docs </b>"
   ]
  },
  {
   "cell_type": "markdown",
   "metadata": {},
   "source": [
    "# Generate Code"
   ]
  },
  {
   "cell_type": "code",
   "execution_count": null,
   "metadata": {},
   "outputs": [],
   "source": [
    "# download the iris data from sklearn and extract the data and labels to x and y"
   ]
  },
  {
   "cell_type": "code",
   "execution_count": null,
   "metadata": {},
   "outputs": [],
   "source": [
    "# create a function that trains a random forest model on data x and labels y in a 5 fold stratified manner and returns mean roc and auc scores, it will be multiclass classification ovr"
   ]
  },
  {
   "cell_type": "code",
   "execution_count": null,
   "metadata": {},
   "outputs": [],
   "source": [
    "# call the function with the iris data"
   ]
  },
  {
   "cell_type": "markdown",
   "metadata": {},
   "source": [
    "# Refactor Example 1\n",
    "'''<br>\n",
    "Using Copilot Chat, enter the cell and enter the following: <br> \n",
    "\n",
    "    Refactor this code, move the imports outside of the function\n",
    "\n",
    "'''"
   ]
  },
  {
   "cell_type": "code",
   "execution_count": null,
   "metadata": {},
   "outputs": [],
   "source": []
  },
  {
   "cell_type": "markdown",
   "metadata": {},
   "source": [
    "# Document Example 1\n",
    "\n",
    "'''<br>\n",
    "Using Copilot Chat <br>\n",
    "\n",
    "    Now add comments to this code explaining each step\n",
    "\n",
    "\n",
    "'''"
   ]
  },
  {
   "cell_type": "code",
   "execution_count": null,
   "metadata": {},
   "outputs": [],
   "source": []
  },
  {
   "cell_type": "markdown",
   "metadata": {},
   "source": [
    "# Regex\n",
    "\n",
    "''' <br>\n",
    "Ctrl + i <br> \n",
    "\n",
    "    Create a function that takes a string and uses regex to match the following: email address, returning the email address\n",
    "\n",
    "'''"
   ]
  },
  {
   "cell_type": "code",
   "execution_count": null,
   "metadata": {},
   "outputs": [],
   "source": []
  },
  {
   "cell_type": "code",
   "execution_count": null,
   "metadata": {},
   "outputs": [],
   "source": [
    "text = \"To contact Guido, try 07861528371 or guido@gmail.com\"\n",
    "# call the function with the text above"
   ]
  },
  {
   "cell_type": "markdown",
   "metadata": {},
   "source": [
    "''' <br>\n",
    "Ctrl + i <br> \n",
    "\n",
    "    I also want my function to extract the 11 digit telephone number from a string\n",
    "\n",
    "'''"
   ]
  },
  {
   "cell_type": "code",
   "execution_count": null,
   "metadata": {},
   "outputs": [],
   "source": []
  },
  {
   "cell_type": "code",
   "execution_count": 22,
   "metadata": {},
   "outputs": [],
   "source": [
    "text = \"To contact Guido, try 07861528371 or guido@gmail.com\"\n",
    "# call the latest function with the text above"
   ]
  },
  {
   "cell_type": "markdown",
   "metadata": {},
   "source": [
    "# Explain Code"
   ]
  },
  {
   "cell_type": "markdown",
   "metadata": {},
   "source": [
    "\n",
    "    /explain the cells above and then progress to the remote url explainer"
   ]
  },
  {
   "cell_type": "markdown",
   "metadata": {},
   "source": []
  },
  {
   "cell_type": "markdown",
   "metadata": {},
   "source": [
    "# Explain Repo"
   ]
  },
  {
   "cell_type": "markdown",
   "metadata": {},
   "source": [
    "We can also provide a remote url to a repository and have Copilot interact with the repository. <br>\n",
    "<br>\n",
    "let's start with <b>Presidio</b>, an open source Microsoft SDK for PII data detection and redaction <br>\n",
    "<br>\n",
    "In Copilot Chat:\n",
    "<br>\n",
    "\n",
    "    1. Can you explain this repo to me https://github.com/microsoft/presidio\n",
    "    2. What are some examples of PII that Presidio can detect?\n",
    "    3. What are some use cases for Presidio?\n",
    "    4. What programming languages does Presidio support?\n",
    "    5. How can I install and use Presidio in my Python project?\n",
    "    6. What can you tell me about the analyzer? \n",
    "    7. And what would be a usage example of the analyzer?\n",
    "    8. Can you tell me more about how the presidio anonymizer works?\n",
    "    9. How do I get started with the anonymizer?\n",
    "    10. What's the difference between the analyzer and the anonymizer?\n",
    "    11. How can I train the Presidio analyzer to recognize custom types of PII?\n",
    "    \n",
    "    \n"
   ]
  }
 ],
 "metadata": {
  "kernelspec": {
   "display_name": "chatdata-env",
   "language": "python",
   "name": "python3"
  },
  "language_info": {
   "codemirror_mode": {
    "name": "ipython",
    "version": 3
   },
   "file_extension": ".py",
   "mimetype": "text/x-python",
   "name": "python",
   "nbconvert_exporter": "python",
   "pygments_lexer": "ipython3",
   "version": "3.9.12"
  },
  "orig_nbformat": 4
 },
 "nbformat": 4,
 "nbformat_minor": 2
}
